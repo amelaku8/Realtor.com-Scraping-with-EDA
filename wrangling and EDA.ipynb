{
 "cells": [
  {
   "cell_type": "code",
   "execution_count": 2,
   "id": "4d3581ff-b339-4a22-a5c7-4839cb920a95",
   "metadata": {},
   "outputs": [],
   "source": [
    "import pandas as pd\n",
    "import matplotlib.pyplot as plt\n",
    "import seaborn as sns\n",
    "import numpy as np"
   ]
  },
  {
   "cell_type": "code",
   "execution_count": 46,
   "id": "f8db92ac-5c19-4bea-ab91-33296e177cad",
   "metadata": {},
   "outputs": [],
   "source": [
    "df = pd.read_csv(\"data.csv\",header=None,names=[\"Broker\",\"Status\",\"Price\",\"Beds\",\"Baths\",\"Lot Size\",\"Building Area\",\"Address1\",\"Address2\"])"
   ]
  },
  {
   "cell_type": "code",
   "execution_count": 8,
   "id": "79542f7a-b70b-4ce2-b927-eec6c19a6170",
   "metadata": {},
   "outputs": [
    {
     "name": "stdout",
     "output_type": "stream",
     "text": [
      "<class 'pandas.core.frame.DataFrame'>\n",
      "RangeIndex: 7140 entries, 0 to 7139\n",
      "Data columns (total 9 columns):\n",
      " #   Column    Non-Null Count  Dtype \n",
      "---  ------    --------------  ----- \n",
      " 0   Broker    7116 non-null   object\n",
      " 1   Status    7140 non-null   object\n",
      " 2   Price     7140 non-null   object\n",
      " 3   Beds      7140 non-null   object\n",
      " 4   Baths     7140 non-null   object\n",
      " 5   Lot Size  7140 non-null   object\n",
      " 6   Area      7140 non-null   object\n",
      " 7   Address1  7140 non-null   object\n",
      " 8   Address2  7140 non-null   object\n",
      "dtypes: object(9)\n",
      "memory usage: 502.2+ KB\n",
      "None\n"
     ]
    },
    {
     "data": {
      "text/html": [
       "<div>\n",
       "<style scoped>\n",
       "    .dataframe tbody tr th:only-of-type {\n",
       "        vertical-align: middle;\n",
       "    }\n",
       "\n",
       "    .dataframe tbody tr th {\n",
       "        vertical-align: top;\n",
       "    }\n",
       "\n",
       "    .dataframe thead th {\n",
       "        text-align: right;\n",
       "    }\n",
       "</style>\n",
       "<table border=\"1\" class=\"dataframe\">\n",
       "  <thead>\n",
       "    <tr style=\"text-align: right;\">\n",
       "      <th></th>\n",
       "      <th>Broker</th>\n",
       "      <th>Status</th>\n",
       "      <th>Price</th>\n",
       "      <th>Beds</th>\n",
       "      <th>Baths</th>\n",
       "      <th>Lot Size</th>\n",
       "      <th>Area</th>\n",
       "      <th>Address1</th>\n",
       "      <th>Address2</th>\n",
       "    </tr>\n",
       "  </thead>\n",
       "  <tbody>\n",
       "    <tr>\n",
       "      <th>0</th>\n",
       "      <td>Brokered by Coldwell Banker Realty</td>\n",
       "      <td>For Sale</td>\n",
       "      <td>$185,000,000</td>\n",
       "      <td>10bed</td>\n",
       "      <td>14.5+bath</td>\n",
       "      <td>2.65acre lot2.65 acre lot</td>\n",
       "      <td>34,380sqft34,380 square feet</td>\n",
       "      <td>869 Tione Rd</td>\n",
       "      <td>Los Angeles, CA 90077</td>\n",
       "    </tr>\n",
       "    <tr>\n",
       "      <th>1</th>\n",
       "      <td>Brokered by Coldwell Banker Realty</td>\n",
       "      <td>For Sale</td>\n",
       "      <td>$54,995,000$5M</td>\n",
       "      <td>9bed</td>\n",
       "      <td>18bath</td>\n",
       "      <td>3.6acre lot3.6 acre lot</td>\n",
       "      <td>21,000sqft21,000 square feet</td>\n",
       "      <td>10066 Cielo Dr</td>\n",
       "      <td>Beverly Hills, CA 90210</td>\n",
       "    </tr>\n",
       "    <tr>\n",
       "      <th>2</th>\n",
       "      <td>Brokered by Ameripride Properties</td>\n",
       "      <td>For Sale</td>\n",
       "      <td>$349,900</td>\n",
       "      <td>3bed</td>\n",
       "      <td>2bath</td>\n",
       "      <td>8,276sqft lot8,276 square foot lot</td>\n",
       "      <td>1,992sqft1,992 square feet</td>\n",
       "      <td>13691 Gavina Ave Unit 443</td>\n",
       "      <td>Sylmar, CA 91342</td>\n",
       "    </tr>\n",
       "    <tr>\n",
       "      <th>3</th>\n",
       "      <td>Brokered by Vista Sotheby's International Realty</td>\n",
       "      <td>For Sale</td>\n",
       "      <td>$9,500,000$1.5M</td>\n",
       "      <td>5bed</td>\n",
       "      <td>7bath</td>\n",
       "      <td>0.74acre lot0.74 acre lot</td>\n",
       "      <td>9,375sqft9,375 square feet</td>\n",
       "      <td>13320 Mulholland Dr</td>\n",
       "      <td>Beverly Hills, CA 90210</td>\n",
       "    </tr>\n",
       "    <tr>\n",
       "      <th>4</th>\n",
       "      <td>Brokered by The Turtlestone Group Corporation</td>\n",
       "      <td>For Sale</td>\n",
       "      <td>$65,000,000</td>\n",
       "      <td>12bed</td>\n",
       "      <td>24bath</td>\n",
       "      <td>1.03acre lot1.03 acre lot</td>\n",
       "      <td>32,000sqft32,000 square feet</td>\n",
       "      <td>10979 Chalon Rd</td>\n",
       "      <td>Los Angeles, CA 90077</td>\n",
       "    </tr>\n",
       "  </tbody>\n",
       "</table>\n",
       "</div>"
      ],
      "text/plain": [
       "                                             Broker    Status  \\\n",
       "0                Brokered by Coldwell Banker Realty  For Sale   \n",
       "1                Brokered by Coldwell Banker Realty  For Sale   \n",
       "2                 Brokered by Ameripride Properties  For Sale   \n",
       "3  Brokered by Vista Sotheby's International Realty  For Sale   \n",
       "4     Brokered by The Turtlestone Group Corporation  For Sale   \n",
       "\n",
       "             Price   Beds      Baths                            Lot Size  \\\n",
       "0     $185,000,000  10bed  14.5+bath           2.65acre lot2.65 acre lot   \n",
       "1   $54,995,000$5M   9bed     18bath             3.6acre lot3.6 acre lot   \n",
       "2         $349,900   3bed      2bath  8,276sqft lot8,276 square foot lot   \n",
       "3  $9,500,000$1.5M   5bed      7bath           0.74acre lot0.74 acre lot   \n",
       "4      $65,000,000  12bed     24bath           1.03acre lot1.03 acre lot   \n",
       "\n",
       "                           Area                   Address1  \\\n",
       "0  34,380sqft34,380 square feet               869 Tione Rd   \n",
       "1  21,000sqft21,000 square feet             10066 Cielo Dr   \n",
       "2    1,992sqft1,992 square feet  13691 Gavina Ave Unit 443   \n",
       "3    9,375sqft9,375 square feet        13320 Mulholland Dr   \n",
       "4  32,000sqft32,000 square feet            10979 Chalon Rd   \n",
       "\n",
       "                  Address2  \n",
       "0    Los Angeles, CA 90077  \n",
       "1  Beverly Hills, CA 90210  \n",
       "2         Sylmar, CA 91342  \n",
       "3  Beverly Hills, CA 90210  \n",
       "4    Los Angeles, CA 90077  "
      ]
     },
     "execution_count": 8,
     "metadata": {},
     "output_type": "execute_result"
    }
   ],
   "source": [
    "print(df.info())\n",
    "df.head()"
   ]
  },
  {
   "cell_type": "code",
   "execution_count": 50,
   "id": "6f2a9383-2201-4b39-988c-70a543cbb18c",
   "metadata": {},
   "outputs": [],
   "source": [
    "df[\"Price\"] = df[\"Price\"].str.split(\"$\",expand = True)[1].str.replace(\",\",\"\").astype(int)"
   ]
  },
  {
   "cell_type": "code",
   "execution_count": 59,
   "id": "6c3a516b-13d7-47b5-ba1b-6a9cb299b04b",
   "metadata": {},
   "outputs": [],
   "source": [
    "df[\"Beds\"] = df[\"Beds\"].str.split(\"bed\",expand = True)[0].astype(\"float\")"
   ]
  },
  {
   "cell_type": "code",
   "execution_count": 51,
   "id": "90909192-b723-4d04-b32c-176714a84ddf",
   "metadata": {},
   "outputs": [],
   "source": [
    "\n",
    "df[\"Baths\"] = df[\"Baths\"].str.split(\"bath\",expand = True)[0].str.split('+',expand = True)[0].astype(\"float\")"
   ]
  },
  {
   "cell_type": "code",
   "execution_count": 52,
   "id": "52a45230-1542-4a0d-ad48-8f617273004b",
   "metadata": {},
   "outputs": [],
   "source": [
    "def lot_to_sqft(lot):\n",
    "    if len(lot.split(\"acre\")) == 1:\n",
    "        return int(lot.split(\"sqft\")[0].replace(\",\",''))\n",
    "    else :\n",
    "        return float(lot.split(\"acre\")[0].replace(\",\",'')) * 43560\n",
    "        "
   ]
  },
  {
   "cell_type": "code",
   "execution_count": 53,
   "id": "d802daa3-ffd8-4314-a20a-777897a046d7",
   "metadata": {},
   "outputs": [],
   "source": [
    "df[\"Lot Size\"]= df[\"Lot Size\"].apply(lot_to_sqft).astype(\"int64\")"
   ]
  },
  {
   "cell_type": "code",
   "execution_count": 54,
   "id": "2d5b5065-28dc-4706-a18b-cb5fb02e2915",
   "metadata": {},
   "outputs": [],
   "source": [
    "df[\"Building Area\"] = df[\"Building Area\"].str.split(\"sqft\",expand = True)[0].str.replace(\",\",\"\").astype(int)"
   ]
  },
  {
   "cell_type": "code",
   "execution_count": 56,
   "id": "e230477b-697f-4098-b494-bb5cca48575e",
   "metadata": {},
   "outputs": [],
   "source": [
    "def clear_broker_names(broker):\n",
    "    broker = str(broker)\n",
    "    try:    \n",
    "        index = broker.index(\"by\")\n",
    "        return broker[index + 3:]\n",
    "    except ValueError:\n",
    "        return broker"
   ]
  },
  {
   "cell_type": "code",
   "execution_count": 57,
   "id": "a8a897a5-4ba6-41ca-8a98-43ffe9f10989",
   "metadata": {},
   "outputs": [],
   "source": [
    "df[\"Broker\"] = df[\"Broker\"].apply(clear_broker_names)"
   ]
  },
  {
   "cell_type": "code",
   "execution_count": null,
   "id": "a1a83fe7-d2b1-4735-8e03-02e7cd3d81fc",
   "metadata": {},
   "outputs": [],
   "source": [
    "sns.histplot(df[\"Lot Size\"])"
   ]
  },
  {
   "cell_type": "code",
   "execution_count": 73,
   "id": "94ac2361-dd52-401c-b0ed-2940b7dfb64b",
   "metadata": {},
   "outputs": [
    {
     "data": {
      "text/plain": [
       "<Axes: ylabel='Broker'>"
      ]
     },
     "execution_count": 73,
     "metadata": {},
     "output_type": "execute_result"
    },
    {
     "data": {
      "image/png": "[encoded data removed]",
      "text/plain": [
       "<Figure size 640x480 with 1 Axes>"
      ]
     },
     "metadata": {},
     "output_type": "display_data"
    }
   ],
   "source": [
    "df[\"Broker\"].value_counts(ascending=False)[:10].plot(kind = \"barh\")"
   ]
  },
  {
   "cell_type": "code",
   "execution_count": 79,
   "id": "1af55758-185f-4f4a-82c0-596ceca2ff1b",
   "metadata": {},
   "outputs": [
    {
     "data": {
      "text/plain": [
       "<Axes: xlabel='Status'>"
      ]
     },
     "execution_count": 79,
     "metadata": {},
     "output_type": "execute_result"
    },
    {
     "data": {
      "image/png": "[encoded data removed]",
      "text/plain": [
       "<Figure size 640x480 with 1 Axes>"
      ]
     },
     "metadata": {},
     "output_type": "display_data"
    }
   ],
   "source": [
    "df[\"Status\"].value_counts().sort_values(ascending = False).plot(kind = \"bar\")"
   ]
  },
  {
   "cell_type": "code",
   "execution_count": null,
   "id": "709b0ca3-bf1e-459c-b474-8901c3d310e7",
   "metadata": {},
   "outputs": [],
   "source": [
    "df.groupby(\"Broker\")[\"Price\"].mean().sort_values()[:10]"
   ]
  },
  {
   "cell_type": "code",
   "execution_count": null,
   "id": "b2f86934-752f-41ab-ae93-2cca55e692f6",
   "metadata": {},
   "outputs": [],
   "source": []
  },
  {
   "cell_type": "code",
   "execution_count": 38,
   "id": "17a9cada-db97-4881-947f-c5b6a85ca66e",
   "metadata": {},
   "outputs": [
    {
     "data": {
      "text/plain": [
       "Address2\n",
       "California City, CA 90034      10000.0\n",
       "Lancaster, CA 93536            25000.0\n",
       "Bel Air, CA 90049              25000.0\n",
       "Twentynine Palms, CA 92277     25000.0\n",
       "Beverly Hills, CA 90077        30000.0\n",
       "Highland Park, CA 90065        40000.0\n",
       "Los Angeles, CA 93535          48900.0\n",
       "Los Angeles, CA 93536          60000.0\n",
       "Tujunga, CA 91402              98000.0\n",
       "Los Angeles, CA 91306         120000.0\n",
       "Name: Price, dtype: object"
      ]
     },
     "execution_count": 38,
     "metadata": {},
     "output_type": "execute_result"
    }
   ],
   "source": [
    "df.groupby(\"Address2\")[\"Price\"].median().sort_values()[:10]"
   ]
  },
  {
   "cell_type": "code",
   "execution_count": 128,
   "id": "9ac9fc45-3771-4267-bc2a-87e23a5e482b",
   "metadata": {},
   "outputs": [
    {
     "data": {
      "text/plain": [
       "<Axes: ylabel='Status'>"
      ]
     },
     "execution_count": 128,
     "metadata": {},
     "output_type": "execute_result"
    },
    {
     "data": {
      "image/png": "[encoded data removed]",
      "text/plain": [
       "<Figure size 640x480 with 1 Axes>"
      ]
     },
     "metadata": {},
     "output_type": "display_data"
    }
   ],
   "source": [
    "df[\"Status\"].value_counts().plot(kind= \"barh\")"
   ]
  },
  {
   "cell_type": "code",
   "execution_count": 130,
   "id": "8a451970-3663-4d91-9beb-c2947c4e83c2",
   "metadata": {},
   "outputs": [
    {
     "data": {
      "text/plain": [
       "6754"
      ]
     },
     "execution_count": 130,
     "metadata": {},
     "output_type": "execute_result"
    }
   ],
   "source": [
    "df[\"Address1\"].nunique()"
   ]
  },
  {
   "cell_type": "code",
   "execution_count": 131,
   "id": "b4cec80d-ae55-4c69-bdb7-56f3b0750fb9",
   "metadata": {},
   "outputs": [
    {
     "name": "stderr",
     "output_type": "stream",
     "text": [
      "[NbConvertApp] Converting notebook dfd.ipynb to script\n",
      "[NbConvertApp] Writing 4534 bytes to dfd.py\n"
     ]
    }
   ],
   "source": [
    "!jupyter nbconvert --to script dfd.ipynb"
   ]
  },
  {
   "cell_type": "code",
   "execution_count": null,
   "id": "27d14517-15d3-406d-92e8-ab46acae9227",
   "metadata": {},
   "outputs": [],
   "source": []
  }
 ],
 "metadata": {
  "kernelspec": {
   "display_name": "Python 3 (ipykernel)",
   "language": "python",
   "name": "python3"
  },
  "language_info": {
   "codemirror_mode": {
    "name": "ipython",
    "version": 3
   },
   "file_extension": ".py",
   "mimetype": "text/x-python",
   "name": "python",
   "nbconvert_exporter": "python",
   "pygments_lexer": "ipython3",
   "version": "3.11.4"
  }
 },
 "nbformat": 4,
 "nbformat_minor": 5
}
